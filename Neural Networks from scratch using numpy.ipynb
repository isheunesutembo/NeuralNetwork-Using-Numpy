{
 "cells": [
  {
   "cell_type": "markdown",
   "metadata": {},
   "source": [
    "# Neural Network using numpy"
   ]
  },
  {
   "cell_type": "markdown",
   "metadata": {},
   "source": [
    "<img src=\"neuralnetwork.png\"/>"
   ]
  },
  {
   "cell_type": "code",
   "execution_count": 1,
   "metadata": {},
   "outputs": [],
   "source": [
    "import numpy as np\n"
   ]
  },
  {
   "cell_type": "markdown",
   "metadata": {},
   "source": [
    "<img src=\"sigmoid.png\"/>"
   ]
  },
  {
   "cell_type": "code",
   "execution_count": 2,
   "metadata": {},
   "outputs": [],
   "source": [
    "def sigmoid(x):\n",
    "    #activation function :f(x)=1/(1+e^-z)\n",
    "    return 1/(1+np.exp(-x))"
   ]
  },
  {
   "cell_type": "code",
   "execution_count": 3,
   "metadata": {},
   "outputs": [],
   "source": [
    "class Neuron:\n",
    "    def __init__(self,weights,bias):\n",
    "        self.weights=weights\n",
    "        self.bias=bias\n",
    "        \n",
    "    def feedforward(self,inputs):\n",
    "         #weight inputs ,add bias \n",
    "        total=np.dot(self.weights,inputs)+self.bias\n",
    "        return sigmoid(total)\n",
    "    \n",
    "    "
   ]
  },
  {
   "cell_type": "code",
   "execution_count": 4,
   "metadata": {},
   "outputs": [],
   "source": [
    "class NeuralNetwork:\n",
    "    \n",
    "    def __init__(self):\n",
    "        weights=np.array([0,1])\n",
    "        bias=0\n",
    "        \n",
    "        self.h1=Neuron(weights,bias)\n",
    "        self.h2=Neuron(weights,bias)\n",
    "        self.o1=Neuron(weights,bias)\n",
    "        \n",
    "        \n",
    "    def feedforward(self,x):\n",
    "        out_h1=self.h1.feedforward(x)\n",
    "        out_h2=self.h2.feedforward(x)\n",
    "        \n",
    "        out_o1=self.o1.feedforward(np.array([out_h1,out_h2]))\n",
    "        \n",
    "        return out_o1\n",
    "    \n",
    "    "
   ]
  },
  {
   "cell_type": "code",
   "execution_count": 5,
   "metadata": {},
   "outputs": [
    {
     "name": "stdout",
     "output_type": "stream",
     "text": [
      "0.7216325609518421\n"
     ]
    }
   ],
   "source": [
    "neuralnetwork=NeuralNetwork()\n",
    "x=np.array([2,3])\n",
    "print(neuralnetwork.feedforward(x))"
   ]
  },
  {
   "cell_type": "code",
   "execution_count": null,
   "metadata": {},
   "outputs": [],
   "source": []
  }
 ],
 "metadata": {
  "kernelspec": {
   "display_name": "Python 3",
   "language": "python",
   "name": "python3"
  },
  "language_info": {
   "codemirror_mode": {
    "name": "ipython",
    "version": 3
   },
   "file_extension": ".py",
   "mimetype": "text/x-python",
   "name": "python",
   "nbconvert_exporter": "python",
   "pygments_lexer": "ipython3",
   "version": "3.7.3"
  }
 },
 "nbformat": 4,
 "nbformat_minor": 2
}
